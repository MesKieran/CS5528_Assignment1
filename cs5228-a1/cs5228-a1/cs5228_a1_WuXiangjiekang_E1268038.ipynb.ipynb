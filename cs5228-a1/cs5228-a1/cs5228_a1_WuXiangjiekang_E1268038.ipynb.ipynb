{
 "cells": [
  {
   "cell_type": "markdown",
   "id": "763f0fa0-6584-44d4-b163-a891252769f9",
   "metadata": {},
   "source": [
    "# CS5228 Assignment 1 - EDA, Data Preparation & K-Means\n",
    "\n",
    "Hello everyone, this assignment notebook covers EDA, Data Preparation & K-Means. There are some code-completion tasks and question-answering tasks in this answer sheet. For code completion tasks, please write down your answer (i.e., your lines of code) between sentences that \"Your code starts here\" and \"Your code ends here\". The space between these two lines does not reflect the required or expected lines of code. For answers in plain text, you can refer to [this Markdown guide](https://medium.com/analytics-vidhya/the-ultimate-markdown-guide-for-jupyter-notebook-d5e5abf728fd) to customize the layout (although it shouldn't be needed).\n",
    "\n",
    "When you work on this notebook, you can insert additional code cells (e.g., for testing) or markdown cells (e.g., to keep track of your thoughts). However, before the submission, please remove all those additional cells again. Thanks!\n",
    "\n",
    "**Important:**\n",
    "* Rename and save this Jupyter notebook as **cs5228_a1_YourName_YourNUSNETID.ipynb** (e.g., **cs5228_a1_BobSmith_e12345678.ipynb**) before submission!\n",
    "* Rename and save the script file *cs5228_a1_script.py* as **cs5228_a1_YourName_YourNUSNETID.py** (e.g., **cs5228_a1_BobSmith_e12345678.py**) before submission!\n",
    "* Submission deadline is **Thursday, Sep 14, 11.59 pm**. Late submissions will be penalized by 10% for each additional day. Failure to appropriately rename both files will yield a penalty of 1 Point. There is no need to use your full name if it's rather long; it's just  important to easily identify you in Canvas etc.\n",
    "\n",
    "Please also add your NUSNET and student id in the code cell below. This is just to make any identification of your notebook doubly sure."
   ]
  },
  {
   "cell_type": "code",
   "execution_count": 27,
   "id": "119a3b10-7afe-4814-9a79-32310842f1c3",
   "metadata": {},
   "outputs": [],
   "source": [
    "student_id = 'A0286970M'\n",
    "nusnet_id = 'E1268038'"
   ]
  },
  {
   "cell_type": "markdown",
   "id": "f7455d1c-31ad-4620-8d8a-ad2adc363f56",
   "metadata": {},
   "source": [
    "Here is an overview over the tasks to be solved and the points associated with each task. The notebook can appear very long and verbose, but note that a lot of parts provide additional explanations, documentation, or some discussion. The code and markdown cells you are supposed to complete are well, but you can use the overview below to double-check that you covered everything.\n",
    "\n",
    "* **1 Exploratory Data Analysis (EDA) & Data Preparation (30 Points)**\n",
    "    * 1.1 Removing \"Dirty\" Records (6 Points)\n",
    "    * 1.2 Handling Missing (NaN) Values (6 Points)\n",
    "    * 1.3 Other Appropriate Data Cleaning / Preprocessing Steps (6 Points)\n",
    "        * 1.3 a) Appropriate Steps (4 Points)\n",
    "        * 1.3 b) Additional Considerations (2 Points)\n",
    "    * 1.4 Handling Categorical Attributes (4 Points)\n",
    "    * 1.5 Basic Facts about Dataset (8 Points)\n",
    "* **2 K-Means (20 Points)**\n",
    "    * 2.1 Performing K-Means \"By Hand\" (4 Points)\n",
    "        * 2.1 a) Find Clusters for K=3 (2 Points)\n",
    "        * 2.1 b) Evaluate the Result (2 Points)\n",
    "    * 2.2 Initializing Centroids (10 Points)\n",
    "        * 2.2 a) Implement Initialization of Centroids (6 Points)\n",
    "        * 2.2 b) Interpreting MaxDist Initialization (2 Points)\n",
    "        * 2.2 c) Interpreting KMeans++ Initialization (2 Points)\n",
    "    * 2.3 Questions about K-Means (6 Points)\n",
    "        * 2.3 a) Empty Cluster (3 Points)\n",
    "        * 2.3 b) Outlier Detection (3 Points)"
   ]
  },
  {
   "cell_type": "markdown",
   "id": "60a4e6d6-30f8-4722-9750-4986c33fcccd",
   "metadata": {},
   "source": [
    "## Setting up the Notebook\n",
    "\n",
    "### Enable Auto-Reload\n",
    "\n",
    "This ensures that any saved changes to your `.py` file gets automatically reloaded."
   ]
  },
  {
   "cell_type": "code",
   "execution_count": 28,
   "id": "d3e1e3ad-9fa4-4f0b-9ed1-2bc5f99b7df4",
   "metadata": {},
   "outputs": [],
   "source": [
    "%load_ext autoreload\n",
    "%autoreload 2"
   ]
  },
  {
   "cell_type": "markdown",
   "id": "90ab1f20-5a50-4772-86bf-905c8c5c9361",
   "metadata": {},
   "source": [
    "### Enable \"Inline Plotting\""
   ]
  },
  {
   "cell_type": "code",
   "execution_count": 29,
   "id": "f838a8d1-9662-448e-be49-b05333787a43",
   "metadata": {},
   "outputs": [],
   "source": [
    "%matplotlib inline"
   ]
  },
  {
   "cell_type": "markdown",
   "id": "d8529e3a-0baf-40bd-bad0-f0186e30653d",
   "metadata": {},
   "source": [
    "### Importing Required Packages"
   ]
  },
  {
   "cell_type": "code",
   "execution_count": 30,
   "id": "4ca2bb72-8aa3-4d53-9d2a-e4953aa02592",
   "metadata": {},
   "outputs": [],
   "source": [
    "import numpy as np\n",
    "import pandas as pd\n",
    "\n",
    "from src.utils import *"
   ]
  },
  {
   "cell_type": "markdown",
   "id": "befecf0d-9ea3-4355-abb3-6cc7b1daa7ec",
   "metadata": {},
   "source": [
    "**Important:** This notebook also requires you to complete in a separate `.py` script file. This keeps this notebook cleaner and simplifies testing your implementations for us. As you need to rename the file `cs5228_a1.py`, you also need to edit the import statement below accordingly."
   ]
  },
  {
   "cell_type": "code",
   "execution_count": 31,
   "id": "0c0827e5-fcc6-42d4-93df-96258a07cec3",
   "metadata": {},
   "outputs": [],
   "source": [
    "from cs5228_a1_WuXiangjiekang_E1268038 import *\n",
    "#from A1a_BobSmith_e12345678 import * # <-- you will need to rename this accordingly"
   ]
  },
  {
   "cell_type": "markdown",
   "id": "872ccaa8-0df8-4b2c-9676-0f872ec645d8",
   "metadata": {},
   "source": [
    "---"
   ]
  },
  {
   "cell_type": "markdown",
   "id": "4e65ca2e-36ac-4d5e-aa5d-b5c5e39ba1a4",
   "metadata": {},
   "source": [
    "## 1. Exploratory Data Analysis (EDA) & Data Preparation\n",
    "\n",
    "### 1.1 Removing \"Dirty\" Records (6 Points)\n",
    "\n",
    "Assume that you have been tasked to build a regression model to predict the **resale prices of used cars** in Singapore. To this end, you get a dataset containing information about 15,000 past resale transactions, including the following information about the attributes:\n",
    "\n",
    "* **listing_id**: Unique ID of the listing; an integer number uniquely assigned to each listing. If this code starts with the letter 'C', it indicates a cancellation of the listing and is this an invalid listing.\n",
    "* **url**: URL of the website where the listing is posted as string value\n",
    "* **make**: The make/brand of the car as a string value of a valid car make (e.g., \"bmw\", \"honda\", \"mazda\", \"toyota\", \"mercedes-benz\").\n",
    "* **model**: The model of the car as a string value of a valid car model (e.g., \"e250\", \"outlander\", \"v60\", \"x1\", \"qashqai\").\n",
    "* **manufactured**: The year the car has been manufactured as an integer value.\n",
    "* **type_of_vehicle**: The type of the car as a string value of a valid vehicle type (e.g., \"luxury sedan\", \"mid-sized sedan\", \"suv\", \"hatchback\").\n",
    "* **power**: The power of the engine as an integer value in kW (kilowatt)\n",
    "* **engine_cap**: Size/capacity of the engine as integer value in cc (cubic centimeter)\n",
    "* **curb_weight**: the weight of the vehicle including a full tank of fuel and all standard equipment in kg (kilogram)\n",
    "* **no_of_owners**: Number of previous owners as integer value >= 1 (used cars only).\n",
    "* **mileage**: Mileage of car as integer value in km (kilometer)\n",
    "* **price**: Resale price of the car in Singapore dollars.\n",
    "\n",
    "Let's have a first look at the data:"
   ]
  },
  {
   "cell_type": "code",
   "execution_count": 32,
   "id": "41de30c2-45a5-4b51-9f56-659dc2119986",
   "metadata": {},
   "outputs": [
    {
     "data": {
      "text/html": [
       "<div>\n",
       "<style scoped>\n",
       "    .dataframe tbody tr th:only-of-type {\n",
       "        vertical-align: middle;\n",
       "    }\n",
       "\n",
       "    .dataframe tbody tr th {\n",
       "        vertical-align: top;\n",
       "    }\n",
       "\n",
       "    .dataframe thead th {\n",
       "        text-align: right;\n",
       "    }\n",
       "</style>\n",
       "<table border=\"1\" class=\"dataframe\">\n",
       "  <thead>\n",
       "    <tr style=\"text-align: right;\">\n",
       "      <th></th>\n",
       "      <th>listing_id</th>\n",
       "      <th>url</th>\n",
       "      <th>make</th>\n",
       "      <th>model</th>\n",
       "      <th>manufactured</th>\n",
       "      <th>type_of_vehicle</th>\n",
       "      <th>power</th>\n",
       "      <th>engine_cap</th>\n",
       "      <th>curb_weight</th>\n",
       "      <th>no_of_owners</th>\n",
       "      <th>mileage</th>\n",
       "      <th>price</th>\n",
       "    </tr>\n",
       "  </thead>\n",
       "  <tbody>\n",
       "    <tr>\n",
       "      <th>0</th>\n",
       "      <td>983884</td>\n",
       "      <td>https://www.sgcarmart.com/listing/983884</td>\n",
       "      <td>nissan</td>\n",
       "      <td>qashqai</td>\n",
       "      <td>2015</td>\n",
       "      <td>suv</td>\n",
       "      <td>85</td>\n",
       "      <td>1197</td>\n",
       "      <td>1285</td>\n",
       "      <td>2</td>\n",
       "      <td>80000</td>\n",
       "      <td>52800</td>\n",
       "    </tr>\n",
       "    <tr>\n",
       "      <th>1</th>\n",
       "      <td>1026259</td>\n",
       "      <td>https://www.sgcarmart.com/listing/1026259</td>\n",
       "      <td>volkswagen</td>\n",
       "      <td>golf</td>\n",
       "      <td>2010</td>\n",
       "      <td>sports car</td>\n",
       "      <td>188</td>\n",
       "      <td>1984</td>\n",
       "      <td>1466</td>\n",
       "      <td>6</td>\n",
       "      <td>149000</td>\n",
       "      <td>105800</td>\n",
       "    </tr>\n",
       "    <tr>\n",
       "      <th>2</th>\n",
       "      <td>1002033</td>\n",
       "      <td>https://www.sgcarmart.com/listing/1002033</td>\n",
       "      <td>suzuki</td>\n",
       "      <td>vitara</td>\n",
       "      <td>2016</td>\n",
       "      <td>suv</td>\n",
       "      <td>88</td>\n",
       "      <td>1586</td>\n",
       "      <td>1160</td>\n",
       "      <td>1</td>\n",
       "      <td>84000</td>\n",
       "      <td>55800</td>\n",
       "    </tr>\n",
       "    <tr>\n",
       "      <th>3</th>\n",
       "      <td>1030109</td>\n",
       "      <td>https://www.sgcarmart.com/listing/1030109</td>\n",
       "      <td>kia</td>\n",
       "      <td>picanto</td>\n",
       "      <td>2007</td>\n",
       "      <td>hatchback</td>\n",
       "      <td>47</td>\n",
       "      <td>1086</td>\n",
       "      <td>852</td>\n",
       "      <td>2</td>\n",
       "      <td>105000</td>\n",
       "      <td>8888</td>\n",
       "    </tr>\n",
       "    <tr>\n",
       "      <th>4</th>\n",
       "      <td>1013252</td>\n",
       "      <td>https://www.sgcarmart.com/listing/1013252</td>\n",
       "      <td>porsche</td>\n",
       "      <td>cayenne</td>\n",
       "      <td>2014</td>\n",
       "      <td>suv</td>\n",
       "      <td>193</td>\n",
       "      <td>2967</td>\n",
       "      <td>2185</td>\n",
       "      <td>3</td>\n",
       "      <td>108650</td>\n",
       "      <td>162800</td>\n",
       "    </tr>\n",
       "  </tbody>\n",
       "</table>\n",
       "</div>"
      ],
      "text/plain": [
       "  listing_id                                        url        make    model  \\\n",
       "0     983884   https://www.sgcarmart.com/listing/983884      nissan  qashqai   \n",
       "1    1026259  https://www.sgcarmart.com/listing/1026259  volkswagen     golf   \n",
       "2    1002033  https://www.sgcarmart.com/listing/1002033      suzuki   vitara   \n",
       "3    1030109  https://www.sgcarmart.com/listing/1030109         kia  picanto   \n",
       "4    1013252  https://www.sgcarmart.com/listing/1013252     porsche  cayenne   \n",
       "\n",
       "   manufactured type_of_vehicle  power  engine_cap curb_weight  no_of_owners  \\\n",
       "0          2015             suv     85        1197        1285             2   \n",
       "1          2010      sports car    188        1984        1466             6   \n",
       "2          2016             suv     88        1586        1160             1   \n",
       "3          2007       hatchback     47        1086         852             2   \n",
       "4          2014             suv    193        2967        2185             3   \n",
       "\n",
       "   mileage   price  \n",
       "0    80000   52800  \n",
       "1   149000  105800  \n",
       "2    84000   55800  \n",
       "3   105000    8888  \n",
       "4   108650  162800  "
      ]
     },
     "execution_count": 32,
     "metadata": {},
     "output_type": "execute_result"
    }
   ],
   "source": [
    "df_cars_dirty = pd.read_csv('data/a1-used-cars-resale-dirty.csv')\n",
    "\n",
    "df_cars_dirty.head()"
   ]
  },
  {
   "cell_type": "code",
   "execution_count": 33,
   "id": "73782838-04d0-4ddb-95b8-5bcb8a639083",
   "metadata": {},
   "outputs": [
    {
     "name": "stdout",
     "output_type": "stream",
     "text": [
      "Number of records: 15000\n"
     ]
    }
   ],
   "source": [
    "print('Number of records: {}'.format(len(df_cars_dirty)))"
   ]
  },
  {
   "cell_type": "markdown",
   "id": "92a48de5-4d9a-4663-a70d-05cfe65050f2",
   "metadata": {},
   "source": [
    "If you check the dataset against its description as given above -- with the help of `pandas` or by simply inspecting the raw data file -- you will notice that many records are \"dirty\", meaning they are not in the expected format. Dirty records can negatively affect any subsequent analysis it needs.\n",
    "\n",
    "**Perform EDA on the Used Cars Resale Price dataset and perform appropriate preprocessing steps to clean the data!**\n",
    "The preprocessing step for cleaning the data step may include\n",
    "* the *removal* of \"dirty records\" or\n",
    "* the *modification* of \"dirty records\" records\n",
    "\n",
    "**Task 1: Identify at least 3 issues** with the dataset that would negatively affect any subsequent analysis, and clean the data accordingly.\n",
    "\n",
    "**Important:**\n",
    "\n",
    "* Recall from the lecture that data cleaning often involves making certain decisions. As such, you might come up with different steps than other students. This is OK as long as you can reasonably justify your steps.\n",
    "* The goal is to preserve as much of the records as possible! So only remove records as part of your data cleaning if it's really necessary (this includes that you should not remove any attributes!). There might be different valid cases, so don't forget to briefly justify your decision.\n",
    "* For this task, we are **not** trying to identify \"noise\" (e.g., outliers in the form of suspicious values) or `NaN` values; this will be covered later. Here, we look for records with values not eligible to be used for an analysis because they do not adhere to the data description.\n",
    "\n",
    "Please provide your answer below. It should list the different issues you have identified and briefly discuss which data cleaning steps you can and/or need to perform to address those issues.\n",
    "\n",
    "**Your answer:**"
   ]
  },
  {
   "cell_type": "markdown",
   "id": "08570665-1957-4628-ae03-dab45cde89b2",
   "metadata": {},
   "source": [
    "**Issue 1: Negative values in the 'no_of_owners' column**\n",
    "* In the *'no_of_owners'* columns, there are negtive values(-1)\n",
    "* In this context negative number of owner does not make sense, so we can replace the nagative values in the 'no_of_column' with missing value representation(e.g. NaN)\n",
    "\n",
    "**Issue 2: Missing values in the 'curb_weight' column**\n",
    "* In the *'curb_weight'* column, there are missing values that are represented as \"XXXXX\"\n",
    "* These missing values need to be addressed for any analysis involving curb weight, therefore we can replace them with NaN\n",
    "\n",
    "**Issue 3: Incorrect data in the 'manufactured' column**\n",
    "* In the *'manufactured'* column, there are some records that are clearly wrong(e.g. 2116)\n",
    "* Those data that are in the 22th century should be corrected to 21th century."
   ]
  },
  {
   "cell_type": "markdown",
   "id": "661489b1-22b4-44b2-9047-43b5e5faa09e",
   "metadata": {},
   "source": [
    "**Task 2: Complete the method `clean` in the `.py` file to actually implement your steps for handling \"dirty\" records!** The results should back up your answer above. Hint: Try to use methods/functionalities provided by `pandas` as much as possible; it will make your code much shorter, faster and your life easier. We will run performance checks for this method to evaluate the runtime, but the performance is not considered for the grading!"
   ]
  },
  {
   "cell_type": "code",
   "execution_count": 34,
   "id": "b01ca23b-812c-4c31-a0ad-ca5db585b4d2",
   "metadata": {},
   "outputs": [
    {
     "name": "stdout",
     "output_type": "stream",
     "text": [
      "After preprocessing, there are now 15000 records.\n"
     ]
    }
   ],
   "source": [
    "df_cars_cleaned = clean(df_cars_dirty)\n",
    "\n",
    "print('After preprocessing, there are now {} records.'.format(df_cars_cleaned.shape[0]))\n",
    "\n",
    "# print(df_cars_cleaned.iloc[53])\n",
    "# file_path = 'cleaned_cars_data.xlsx'\n",
    "# df_cars_cleaned.to_excel(file_path)"
   ]
  },
  {
   "cell_type": "markdown",
   "id": "b433df0f-b658-4284-8b93-01583e18b5f9",
   "metadata": {},
   "source": [
    "### 1.2 Handling Missing (NaN) Values (6 Points)\n",
    "\n",
    "Many traditional data mining algorithms do not like missing (NaN) values and will throw an error if missing values are present. We therefore have to address missing values and get rid of them. On the other hand, we want to preserve as much of our dataset as possible, so we need to be smart about that. In this subtask, you are provided with a version of our used cars resale dataset that contains missing values but is otherwise clean -- so it is all about the `NaN` values here.\n",
    "\n",
    "Let's load the dataset and have a quick look -- the attributes are the same as before:"
   ]
  },
  {
   "cell_type": "code",
   "execution_count": 35,
   "id": "88766e6f-dd8a-46e3-8eff-9f5541330be1",
   "metadata": {},
   "outputs": [
    {
     "data": {
      "text/html": [
       "<div>\n",
       "<style scoped>\n",
       "    .dataframe tbody tr th:only-of-type {\n",
       "        vertical-align: middle;\n",
       "    }\n",
       "\n",
       "    .dataframe tbody tr th {\n",
       "        vertical-align: top;\n",
       "    }\n",
       "\n",
       "    .dataframe thead th {\n",
       "        text-align: right;\n",
       "    }\n",
       "</style>\n",
       "<table border=\"1\" class=\"dataframe\">\n",
       "  <thead>\n",
       "    <tr style=\"text-align: right;\">\n",
       "      <th></th>\n",
       "      <th>listing_id</th>\n",
       "      <th>url</th>\n",
       "      <th>make</th>\n",
       "      <th>model</th>\n",
       "      <th>manufactured</th>\n",
       "      <th>type_of_vehicle</th>\n",
       "      <th>power</th>\n",
       "      <th>engine_cap</th>\n",
       "      <th>curb_weight</th>\n",
       "      <th>no_of_owners</th>\n",
       "      <th>mileage</th>\n",
       "      <th>price</th>\n",
       "    </tr>\n",
       "  </thead>\n",
       "  <tbody>\n",
       "    <tr>\n",
       "      <th>0</th>\n",
       "      <td>1023911</td>\n",
       "      <td>https://www.sgcarmart.com/listing/1023911</td>\n",
       "      <td>toyota</td>\n",
       "      <td>corolla</td>\n",
       "      <td>2009</td>\n",
       "      <td>mid-sized sedan</td>\n",
       "      <td>81</td>\n",
       "      <td>1496</td>\n",
       "      <td>1130.0</td>\n",
       "      <td>3</td>\n",
       "      <td>127450.0</td>\n",
       "      <td>20800.0</td>\n",
       "    </tr>\n",
       "    <tr>\n",
       "      <th>1</th>\n",
       "      <td>1022346</td>\n",
       "      <td>https://www.sgcarmart.com/listing/1022346</td>\n",
       "      <td>toyota</td>\n",
       "      <td>estima</td>\n",
       "      <td>2007</td>\n",
       "      <td>mpv</td>\n",
       "      <td>125</td>\n",
       "      <td>2362</td>\n",
       "      <td>1710.0</td>\n",
       "      <td>4</td>\n",
       "      <td>103000.0</td>\n",
       "      <td>52500.0</td>\n",
       "    </tr>\n",
       "    <tr>\n",
       "      <th>2</th>\n",
       "      <td>1017880</td>\n",
       "      <td>https://www.sgcarmart.com/listing/1017880</td>\n",
       "      <td>citroen</td>\n",
       "      <td>c3</td>\n",
       "      <td>2018</td>\n",
       "      <td>suv</td>\n",
       "      <td>81</td>\n",
       "      <td>1199</td>\n",
       "      <td>1203.0</td>\n",
       "      <td>1</td>\n",
       "      <td>35000.0</td>\n",
       "      <td>68000.0</td>\n",
       "    </tr>\n",
       "    <tr>\n",
       "      <th>3</th>\n",
       "      <td>1022468</td>\n",
       "      <td>https://www.sgcarmart.com/listing/1022468</td>\n",
       "      <td>renault</td>\n",
       "      <td>grand</td>\n",
       "      <td>2015</td>\n",
       "      <td>mpv</td>\n",
       "      <td>81</td>\n",
       "      <td>1461</td>\n",
       "      <td>1539.0</td>\n",
       "      <td>1</td>\n",
       "      <td>80848.0</td>\n",
       "      <td>52800.0</td>\n",
       "    </tr>\n",
       "    <tr>\n",
       "      <th>4</th>\n",
       "      <td>1026440</td>\n",
       "      <td>https://www.sgcarmart.com/listing/1026440</td>\n",
       "      <td>mercedes-benz</td>\n",
       "      <td>e200</td>\n",
       "      <td>2009</td>\n",
       "      <td>luxury sedan</td>\n",
       "      <td>135</td>\n",
       "      <td>1796</td>\n",
       "      <td>1615.0</td>\n",
       "      <td>2</td>\n",
       "      <td>116199.0</td>\n",
       "      <td>73800.0</td>\n",
       "    </tr>\n",
       "  </tbody>\n",
       "</table>\n",
       "</div>"
      ],
      "text/plain": [
       "   listing_id                                        url           make  \\\n",
       "0     1023911  https://www.sgcarmart.com/listing/1023911         toyota   \n",
       "1     1022346  https://www.sgcarmart.com/listing/1022346         toyota   \n",
       "2     1017880  https://www.sgcarmart.com/listing/1017880        citroen   \n",
       "3     1022468  https://www.sgcarmart.com/listing/1022468        renault   \n",
       "4     1026440  https://www.sgcarmart.com/listing/1026440  mercedes-benz   \n",
       "\n",
       "     model  manufactured  type_of_vehicle  power  engine_cap  curb_weight  \\\n",
       "0  corolla          2009  mid-sized sedan     81        1496       1130.0   \n",
       "1   estima          2007              mpv    125        2362       1710.0   \n",
       "2       c3          2018              suv     81        1199       1203.0   \n",
       "3    grand          2015              mpv     81        1461       1539.0   \n",
       "4     e200          2009     luxury sedan    135        1796       1615.0   \n",
       "\n",
       "   no_of_owners   mileage    price  \n",
       "0             3  127450.0  20800.0  \n",
       "1             4  103000.0  52500.0  \n",
       "2             1   35000.0  68000.0  \n",
       "3             1   80848.0  52800.0  \n",
       "4             2  116199.0  73800.0  "
      ]
     },
     "execution_count": 35,
     "metadata": {},
     "output_type": "execute_result"
    }
   ],
   "source": [
    "df_cars_nan = pd.read_csv('data/a1-used-cars-resale-nan.csv')\n",
    "\n",
    "df_cars_nan.head()"
   ]
  },
  {
   "cell_type": "markdown",
   "id": "ab426740-2832-4d80-9194-88a6ce08a488",
   "metadata": {},
   "source": [
    "Since your decision for handling `NaN` values might depend in the data mining task, assume in the following that you want to use this dataset to **create a regression model to predict the resale price** from the attributes of a transaction. Of course, there will be no need to actually create such a model here.\n",
    "\n",
    "**Task 1: Identify all `NaN` values in the dataset and handle them appropriately!** After this preprocessing, the resulting dataset should no longer contain any `NaN` values. Please provide your answer in the markdown cell below list all issues concerning `NaN` values and how you would handle them with a brief justification for your approach. Additional (simplifying) guidelines:\n",
    "\n",
    "* The goal is to preserve as many records in the dataset as possible.\n",
    "* You do not need to consider external knowledge (i.e., information coming from outside this dataset)\n",
    "* Ignore more sophisticated solutions such as [`sklearn.impute.KNNImputer`](https://scikit-learn.org/stable/modules/generated/sklearn.impute.KNNImputer.html). These can be very useful in practice (and maybe for your project), but their application requires certain assumptions to hold for good results. This is beyond the scope of this assignment.\n",
    "\n",
    "**Your Answer:**"
   ]
  },
  {
   "cell_type": "code",
   "execution_count": 36,
   "id": "9152f717-5637-49a5-8db7-9af3711cde8f",
   "metadata": {},
   "outputs": [
    {
     "name": "stdout",
     "output_type": "stream",
     "text": [
      "Number of missing values in 'listing_id' column: 0\n",
      "Number of missing values in 'url column: 1503\n",
      "Number of missing values in 'make' column: 987\n",
      "Number of missing values in 'model' column: 0\n",
      "Number of missing values in 'manufactured' column: 0\n",
      "Number of missing values in 'type_of_vehicle' column: 0\n",
      "Number of missing values in 'power' column: 0\n",
      "Number of missing values in 'engine_cap' column: 0\n",
      "Number of missing values in 'curb_weight' column: 0\n",
      "Number of missing values in 'no_of_owners' column: 0\n",
      "Number of missing values in 'mileage' column: 741\n",
      "Number of missing values in 'price' column: 445\n"
     ]
    }
   ],
   "source": [
    "missing_value_col1 = df_cars_nan['listing_id'].isna().sum()\n",
    "missing_value_col2 = df_cars_nan['url'].isna().sum()\n",
    "missing_value_col3 = df_cars_nan['make'].isna().sum()\n",
    "missing_value_col4 = df_cars_nan['model'].isna().sum()\n",
    "missing_value_col5 = df_cars_nan['manufactured'].isna().sum()\n",
    "missing_value_col6 = df_cars_nan['type_of_vehicle'].isna().sum()\n",
    "missing_value_col7 = df_cars_nan['power'].isna().sum()\n",
    "missing_value_col8 = df_cars_nan['engine_cap'].isna().sum()\n",
    "missing_value_col9 = df_cars_nan['curb_weight'].isna().sum()\n",
    "missing_value_col10 = df_cars_nan['no_of_owners'].isna().sum()\n",
    "missing_value_col11 = df_cars_nan['mileage'].isna().sum()\n",
    "missing_value_col12 = df_cars_nan['price'].isna().sum()\n",
    "\n",
    "print(\"Number of missing values in 'listing_id' column:\", missing_value_col1 )\n",
    "print(\"Number of missing values in 'url column:\", missing_value_col2 )\n",
    "print(\"Number of missing values in 'make' column:\", missing_value_col3 )\n",
    "print(\"Number of missing values in 'model' column:\", missing_value_col4 )\n",
    "print(\"Number of missing values in 'manufactured' column:\", missing_value_col5 )\n",
    "print(\"Number of missing values in 'type_of_vehicle' column:\", missing_value_col6 )\n",
    "print(\"Number of missing values in 'power' column:\", missing_value_col7 )\n",
    "print(\"Number of missing values in 'engine_cap' column:\", missing_value_col8 )\n",
    "print(\"Number of missing values in 'curb_weight' column:\", missing_value_col9 )\n",
    "print(\"Number of missing values in 'no_of_owners' column:\", missing_value_col10 )\n",
    "print(\"Number of missing values in 'mileage' column:\", missing_value_col11 )\n",
    "print(\"Number of missing values in 'price' column:\", missing_value_col12 )"
   ]
  },
  {
   "cell_type": "markdown",
   "id": "ad8a9e22-454d-4fcd-8abe-17bc43346862",
   "metadata": {},
   "source": [
    "After using isna() function, I foud 4 columns with NaN value. For the **'url'** column , when encounter a NaN value browse through the dataset and find a record with same **'model'** and use the **'url'** to fill in the NaN. For **'make'** column, similarly find a record with same model and use the **'make'** to fill in the NaN. For the **'mileage'** and **'price'** column, fill in the NaN with mean value since it helps to preserve the distribution of the data."
   ]
  },
  {
   "cell_type": "markdown",
   "id": "337bc09e-0eae-4d3f-9746-9ae52db85187",
   "metadata": {},
   "source": [
    "**Task 2: Complete the method `handle_nan` in the `.py` file to actually implement your steps for handling `NaN` values!** The results should back up your answer above. Hint: Try to use methods/functionalities provided by `pandas` as much as possible; it will make your code much shorter, faster and your life easier. We will run performance checks for this method to evaluate the runtime, but the performance is not considered for the grading!"
   ]
  },
  {
   "cell_type": "code",
   "execution_count": 37,
   "id": "d84e4ab6-1b72-4919-bc75-42058dd1e1f4",
   "metadata": {},
   "outputs": [
    {
     "name": "stdout",
     "output_type": "stream",
     "text": [
      "After handling missing values, there are now 15000 records.\n",
      "Number of records with an NaN for any attribute: 0\n"
     ]
    }
   ],
   "source": [
    "df_cars_no_nan = handle_nan(df_cars_nan)\n",
    "\n",
    "print('After handling missing values, there are now {} records.'.format(df_cars_no_nan.shape[0]))\n",
    "print('Number of records with an NaN for any attribute: {}'.format((df_cars_no_nan.isna().sum(axis=1) > 0).sum()))"
   ]
  },
  {
   "cell_type": "markdown",
   "id": "4a89c6d3-5a77-4b3c-86ab-2de6a45df91c",
   "metadata": {},
   "source": [
    "### 1.3 Other Appropriate Data Cleaning / Preprocessing Steps (6 Points)\n",
    "\n",
    "Identifying \"dirty\" records and missing data are two very fundamental and generally rather systematic steps as part of data cleaning / data preprocessing. However, as we saw in the lecture using some examples, there are many other issues with the dataset that can be considered noise and thus potentially negatively affecting any data analysis. So the more noise we can remove, the more likely we can expect meaning analysis results.\n",
    "\n",
    "For this subtask, we use a version of our Used Cars Resale dataset **with no \"dirty\" records or missing data**! Note that this dataset has a few more attributes: `eco_category`, `transmission`, and `reg_date` (registration date). Let's have a look:"
   ]
  },
  {
   "cell_type": "code",
   "execution_count": 38,
   "id": "229d1e59-7ae3-4cb6-94e6-3c71c3a8cc97",
   "metadata": {},
   "outputs": [
    {
     "data": {
      "text/html": [
       "<div>\n",
       "<style scoped>\n",
       "    .dataframe tbody tr th:only-of-type {\n",
       "        vertical-align: middle;\n",
       "    }\n",
       "\n",
       "    .dataframe tbody tr th {\n",
       "        vertical-align: top;\n",
       "    }\n",
       "\n",
       "    .dataframe thead th {\n",
       "        text-align: right;\n",
       "    }\n",
       "</style>\n",
       "<table border=\"1\" class=\"dataframe\">\n",
       "  <thead>\n",
       "    <tr style=\"text-align: right;\">\n",
       "      <th></th>\n",
       "      <th>listing_id</th>\n",
       "      <th>url</th>\n",
       "      <th>make</th>\n",
       "      <th>model</th>\n",
       "      <th>manufactured</th>\n",
       "      <th>reg_date</th>\n",
       "      <th>type_of_vehicle</th>\n",
       "      <th>eco_category</th>\n",
       "      <th>transmission</th>\n",
       "      <th>power</th>\n",
       "      <th>engine_cap</th>\n",
       "      <th>curb_weight</th>\n",
       "      <th>no_of_owners</th>\n",
       "      <th>mileage</th>\n",
       "      <th>price</th>\n",
       "    </tr>\n",
       "  </thead>\n",
       "  <tbody>\n",
       "    <tr>\n",
       "      <th>0</th>\n",
       "      <td>1004862</td>\n",
       "      <td>https://www.sgcarmart.com/listing/1004862</td>\n",
       "      <td>Lamborghini</td>\n",
       "      <td>gallardo</td>\n",
       "      <td>2011</td>\n",
       "      <td>06-jan-2012</td>\n",
       "      <td>sports car</td>\n",
       "      <td>uncategorized</td>\n",
       "      <td>auto</td>\n",
       "      <td>412</td>\n",
       "      <td>5204</td>\n",
       "      <td>1500</td>\n",
       "      <td>5</td>\n",
       "      <td>49000</td>\n",
       "      <td>362800</td>\n",
       "    </tr>\n",
       "    <tr>\n",
       "      <th>1</th>\n",
       "      <td>1004953</td>\n",
       "      <td>https://www.sgcarmart.com/listing/1004953</td>\n",
       "      <td>Mitsubishi</td>\n",
       "      <td>attrage</td>\n",
       "      <td>2016</td>\n",
       "      <td>31-jul-2017</td>\n",
       "      <td>mid-sized_sedan</td>\n",
       "      <td>uncategorized</td>\n",
       "      <td>auto</td>\n",
       "      <td>57</td>\n",
       "      <td>1193</td>\n",
       "      <td>940</td>\n",
       "      <td>2</td>\n",
       "      <td>90000</td>\n",
       "      <td>43800</td>\n",
       "    </tr>\n",
       "    <tr>\n",
       "      <th>2</th>\n",
       "      <td>1031276</td>\n",
       "      <td>https://www.sgcarmart.com/listing/1031276</td>\n",
       "      <td>toyota</td>\n",
       "      <td>vios</td>\n",
       "      <td>2018</td>\n",
       "      <td>21-nov-2018</td>\n",
       "      <td>mid-sized sedan</td>\n",
       "      <td>uncategorized</td>\n",
       "      <td>auto</td>\n",
       "      <td>79</td>\n",
       "      <td>1496</td>\n",
       "      <td>1085</td>\n",
       "      <td>1</td>\n",
       "      <td>20270</td>\n",
       "      <td>56666</td>\n",
       "    </tr>\n",
       "    <tr>\n",
       "      <th>3</th>\n",
       "      <td>1024287</td>\n",
       "      <td>https://www.sgcarmart.com/listing/1024287</td>\n",
       "      <td>volkswagen</td>\n",
       "      <td>golf</td>\n",
       "      <td>2016</td>\n",
       "      <td>18-nov-2016</td>\n",
       "      <td>hatchback</td>\n",
       "      <td>uncategorized</td>\n",
       "      <td>auto</td>\n",
       "      <td>81</td>\n",
       "      <td>1197</td>\n",
       "      <td>1229</td>\n",
       "      <td>1</td>\n",
       "      <td>60000</td>\n",
       "      <td>54200</td>\n",
       "    </tr>\n",
       "    <tr>\n",
       "      <th>4</th>\n",
       "      <td>1023453</td>\n",
       "      <td>https://www.sgcarmart.com/listing/1023453</td>\n",
       "      <td>bmw</td>\n",
       "      <td>216d</td>\n",
       "      <td>2016</td>\n",
       "      <td>24-nov-2016</td>\n",
       "      <td>mpv</td>\n",
       "      <td>uncategorized</td>\n",
       "      <td>auto</td>\n",
       "      <td>85</td>\n",
       "      <td>1496</td>\n",
       "      <td>1480</td>\n",
       "      <td>2</td>\n",
       "      <td>80000</td>\n",
       "      <td>103000</td>\n",
       "    </tr>\n",
       "  </tbody>\n",
       "</table>\n",
       "</div>"
      ],
      "text/plain": [
       "   listing_id                                        url         make  \\\n",
       "0     1004862  https://www.sgcarmart.com/listing/1004862  Lamborghini   \n",
       "1     1004953  https://www.sgcarmart.com/listing/1004953   Mitsubishi   \n",
       "2     1031276  https://www.sgcarmart.com/listing/1031276       toyota   \n",
       "3     1024287  https://www.sgcarmart.com/listing/1024287   volkswagen   \n",
       "4     1023453  https://www.sgcarmart.com/listing/1023453          bmw   \n",
       "\n",
       "      model  manufactured     reg_date  type_of_vehicle   eco_category  \\\n",
       "0  gallardo          2011  06-jan-2012       sports car  uncategorized   \n",
       "1   attrage          2016  31-jul-2017  mid-sized_sedan  uncategorized   \n",
       "2      vios          2018  21-nov-2018  mid-sized sedan  uncategorized   \n",
       "3      golf          2016  18-nov-2016        hatchback  uncategorized   \n",
       "4      216d          2016  24-nov-2016              mpv  uncategorized   \n",
       "\n",
       "  transmission  power  engine_cap  curb_weight  no_of_owners  mileage   price  \n",
       "0         auto    412        5204         1500             5    49000  362800  \n",
       "1         auto     57        1193          940             2    90000   43800  \n",
       "2         auto     79        1496         1085             1    20270   56666  \n",
       "3         auto     81        1197         1229             1    60000   54200  \n",
       "4         auto     85        1496         1480             2    80000  103000  "
      ]
     },
     "execution_count": 38,
     "metadata": {},
     "output_type": "execute_result"
    }
   ],
   "source": [
    "df_cars_others = pd.read_csv('data/a1-used-cars-resale-other.csv')\n",
    "\n",
    "df_cars_others.head()"
   ]
  },
  {
   "cell_type": "markdown",
   "id": "aa2ecde7-99e0-4828-8abd-daa0403818fe",
   "metadata": {},
   "source": [
    "#### 1.3 a) Appropriate Steps (4 Points)\n",
    "\n",
    "**List at least 4 data cleaning / data preprocessing steps you deem appropriate to apply to the dataset above!** Please provide your answer in the markdown cell below list all steps together with a justification for your decision. Additional (simplifying) guidelines:\n",
    "\n",
    "* You should still assume that we want to use this dataset to create a model for predicting the resale price of a flat based on its attributes. The choice of data mining task is very likely to affect your decision for what cleaning / preprocessing steps to apply.\n",
    "* There is no need to consider external knowledge. For example, you do not have to check if a value for `model` is indeed an existing car model.\n",
    "* Please do not address the concept of attribute encoding -- that is, the encoding of categorical attributes as numerical attributes -- in this subtask. This comes later.\n",
    "* There is no need for you to implement any processing steps! Most important are your justifications for your decisions.\n",
    "\n",
    "**Your Answer:**"
   ]
  },
  {
   "cell_type": "markdown",
   "id": "622c5d44-5cda-4311-ac02-4e53039fceb6",
   "metadata": {},
   "source": [
    "**1. Convert date columns like 'manufactured' and 'reg_date' to datetime format.**\n",
    "* This will allow us to perform date-based operations and extract useful features from these columns during analysis or modeling.\n",
    "* Converting date columns to datetime format makes it easier to work with date-related features and enables you to calculate the age of the vehicles accurately.\n",
    "\n",
    "**2. Create a new feature for the age of the vehicles by subtracting 'manufactured' from the current date.**\n",
    "* The age of the vehicle can be an important factor in predicting resale price.\n",
    "\n",
    "**3. Check for outliers in numerical columns like 'mileage,' 'power,' 'engine_cap,' 'curb_weight,' and 'price.'**\n",
    "* Outliers can significantly affect the model's performance, and removing or transforming them can improve model accuracy.\n",
    "\n",
    "**4. Remove Duplicated Records**\n",
    "* Removing duplicated records ensures data consistency and reliability. Duplicate entries may arise due to data entry errors, system glitches, or other issues.\n",
    "* When building predictive models, duplicated records can cause model instability and reduce predictive accuracy.\n",
    "* Working with a clean dataset containing unique records streamlines data processing and analysis tasks. Duplicate records increase the computational load and memory usage, which can be inefficient and time-consuming. "
   ]
  },
  {
   "cell_type": "markdown",
   "id": "cd622442-a3bb-4b77-84b7-dbb42ddfebfd",
   "metadata": {},
   "source": [
    "#### 1.3 b) Additional Considerations (2 Points)\n",
    "\n",
    "So far, we handled \"dirty\" records, missing values, and other types of (arguably) straightforward EDA/preprocessing steps. This means that we performed important steps towards ensuring a minimum level of data quality to, in turn, enable a successful data analysis and meaningful results. However, this does not mean that our dataset is now free of any noise.\n",
    "\n",
    "**Briefly discuss what other kind of noise our dataset might still contain?** Include a brief explanation if and how we could identify and handle these instances of noisy data -- if possible in a meaningful way. There is no need to analyze and check the dataset to find any examples. This question is mainly to motivate some additional thinking.\n",
    "\n",
    "**Your Answer:**"
   ]
  },
  {
   "cell_type": "markdown",
   "id": "b83d0552-8cd2-45f1-9631-43437e986bd6",
   "metadata": {},
   "source": [
    "**1. Inconsistent Data Formats**\n",
    "* Inconsistencies in data formats can lead to noise. For instance, inconsistent date formats, currency symbols, or units of measurement can make it challenging to perform meaningful analysis.\n",
    "* Example: In the 'price' column, some entries use commas as thousands separators (e.g., `$`12,345), while others do not (e.g., `$`12345).\n",
    "* How to resolve: Standardize the format by removing commas and converting all values to a consistent numerical format.\n",
    "\n",
    "**2. Inaccurate or Incomplete Data**\n",
    "* Noise may arise from inaccuracies or incompleteness in the dataset. This includes incorrect values, outdated information, or missing attributes that are essential for analysis. \n",
    "* Example: The 'power' column contains unrealistically high values, such as a vehicle with 10,000 horsepower.\n",
    "* Validate data against realistic ranges. For 'power,' consider removing or correcting entries that exceed a reasonable upper limit based on the type of vehicles listed.\n"
   ]
  },
  {
   "cell_type": "markdown",
   "id": "37d3f625-674d-4fa2-894a-7f0f20aa9415",
   "metadata": {},
   "source": [
    "### 1.4 Handling Categorical Attributes (4 Points)\n",
    "\n",
    "Many to most data mining algorithms require all input features / attributes to be numerical. Our dataset with transactions resales of condo flats contains attributes that are not all numerical. As such, assuming we indeed want to utilize them, we need to convert those attributes into numerical ones. Regarding encoding techniques, we covered [One-Hot Encoding](https://scikit-learn.org/stable/modules/generated/sklearn.preprocessing.OneHotEncoder.html) in the lecture, and also talked about [Target Encoding](https://contrib.scikit-learn.org/category_encoders/targetencoder.html) in the tutorial; you can and should also look into other encoding techniques.\n",
    "\n",
    "For this task, we assume the same dataset file used in 1.3 (`a1-used-cars-resale-others.csv`).\n",
    "\n",
    "**Briefly(!) discuss how you would handle each categorical attribute and justify why!** Handling a categorical attribute means\n",
    "* to drop a categorical attribute *or*\n",
    "* to encode it into a numerical representation *or*\n",
    "* to otherwise transform it into a numerical attribute\n",
    "\n",
    "There is no single correct answer for this task; it's your justification that matters. Again, assume that we want to create a regression model to predict the resale price of a flat based on the other features.\n",
    "\n",
    "**Your Answer:**"
   ]
  },
  {
   "cell_type": "markdown",
   "id": "ca681d15-7dda-44f3-9aff-43a07141ad4d",
   "metadata": {},
   "source": [
    "**Make and model**\n",
    "* For these two categories we can use one-hot encodeing to handle them. Each unique make and model combination would become a separate binary column to indicate the presence or absence of that combination.\n",
    "* This allows us to capture the relationship or the price with any specific combination of model and make.\n",
    "* One hot encoding treats each combination as a distinct category, which is essential as different car makes and models may have unique impacts on resale prices.\n",
    "\n",
    "**Type_of_vehicle**\n",
    "* This attribute indicates different types of vehicles, such as \"mid-sized sedan\", \"sports car\". This attribute can also be encoded with one-hot encoding, and the independence of each vehicle type is preserved.\n",
    "\n",
    "**Eco_category**\n",
    "* For this category, there are only two values in the attribute, namely \"categorized\" or \"uncategorized\". Therefore we can directly convert this category into binary representation. 1 for \"categorized\" and 0 for \"uncategorized\".\n",
    "\n",
    "**Transmission**\n",
    "* Same as the eco_category, the transmission can be converted into a binary representation, 1 for \"auto\" and 0 for \"manual\".\n",
    "\n",
    "**Manufactured**\n",
    "* This attribute represents the year of manufacture, and it's categorical in the sense that it consists of discrete years. To handle this, we can use target encoding or ordinal encoding. Target encoding would involve encoding each year based on the mean resale price of cars manufactured in that year.\n",
    "* Using target encoding makes sense when there might be an ordinal relationship between the manufacturing year and resale price. Newer cars might have higher resale prices on average."
   ]
  },
  {
   "cell_type": "markdown",
   "id": "2a282d03-152d-436e-adb0-911febcbb444",
   "metadata": {},
   "source": [
    "### 1.5 Basic Facts about a Real-World Dataset (8 Points)\n",
    "\n",
    "The following tasks are about getting basic insights into the Used Cars Resale Prices dataset. As the data preprocessing steps you choose to perform might affect the results of this task, we will use a different dataset file here. Note that this file also contains 15,000 listings of used cars but does **not** contain any \"dirty\" records. This is to ensure that everyone uses the same data.\n",
    "\n",
    "If you think this data file may contain \"dirty\" records, you can safely ignore them. Please do not modify the data for this task!"
   ]
  },
  {
   "cell_type": "code",
   "execution_count": 39,
   "id": "bb4e91ee-fdc9-4b05-a070-55c0855dedec",
   "metadata": {},
   "outputs": [
    {
     "data": {
      "text/html": [
       "<div>\n",
       "<style scoped>\n",
       "    .dataframe tbody tr th:only-of-type {\n",
       "        vertical-align: middle;\n",
       "    }\n",
       "\n",
       "    .dataframe tbody tr th {\n",
       "        vertical-align: top;\n",
       "    }\n",
       "\n",
       "    .dataframe thead th {\n",
       "        text-align: right;\n",
       "    }\n",
       "</style>\n",
       "<table border=\"1\" class=\"dataframe\">\n",
       "  <thead>\n",
       "    <tr style=\"text-align: right;\">\n",
       "      <th></th>\n",
       "      <th>listing_id</th>\n",
       "      <th>url</th>\n",
       "      <th>make</th>\n",
       "      <th>model</th>\n",
       "      <th>manufactured</th>\n",
       "      <th>type_of_vehicle</th>\n",
       "      <th>power</th>\n",
       "      <th>engine_cap</th>\n",
       "      <th>curb_weight</th>\n",
       "      <th>no_of_owners</th>\n",
       "      <th>mileage</th>\n",
       "      <th>price</th>\n",
       "    </tr>\n",
       "  </thead>\n",
       "  <tbody>\n",
       "    <tr>\n",
       "      <th>0</th>\n",
       "      <td>1019096</td>\n",
       "      <td>https://www.sgcarmart.com/listing/1019096</td>\n",
       "      <td>mitsubishi</td>\n",
       "      <td>evolution</td>\n",
       "      <td>2008</td>\n",
       "      <td>sports car</td>\n",
       "      <td>206</td>\n",
       "      <td>1998</td>\n",
       "      <td>1550</td>\n",
       "      <td>3</td>\n",
       "      <td>82222</td>\n",
       "      <td>128888</td>\n",
       "    </tr>\n",
       "    <tr>\n",
       "      <th>1</th>\n",
       "      <td>946934</td>\n",
       "      <td>https://www.sgcarmart.com/listing/946934</td>\n",
       "      <td>porsche</td>\n",
       "      <td>cayenne</td>\n",
       "      <td>2011</td>\n",
       "      <td>suv</td>\n",
       "      <td>245</td>\n",
       "      <td>2995</td>\n",
       "      <td>2315</td>\n",
       "      <td>4</td>\n",
       "      <td>131000</td>\n",
       "      <td>132000</td>\n",
       "    </tr>\n",
       "    <tr>\n",
       "      <th>2</th>\n",
       "      <td>1029652</td>\n",
       "      <td>https://www.sgcarmart.com/listing/1029652</td>\n",
       "      <td>audi</td>\n",
       "      <td>a5</td>\n",
       "      <td>2018</td>\n",
       "      <td>luxury sedan</td>\n",
       "      <td>140</td>\n",
       "      <td>1984</td>\n",
       "      <td>1535</td>\n",
       "      <td>2</td>\n",
       "      <td>43000</td>\n",
       "      <td>139800</td>\n",
       "    </tr>\n",
       "    <tr>\n",
       "      <th>3</th>\n",
       "      <td>1004270</td>\n",
       "      <td>https://www.sgcarmart.com/listing/1004270</td>\n",
       "      <td>audi</td>\n",
       "      <td>rs</td>\n",
       "      <td>2018</td>\n",
       "      <td>stationwagon</td>\n",
       "      <td>331</td>\n",
       "      <td>2894</td>\n",
       "      <td>1790</td>\n",
       "      <td>1</td>\n",
       "      <td>28150</td>\n",
       "      <td>299900</td>\n",
       "    </tr>\n",
       "    <tr>\n",
       "      <th>4</th>\n",
       "      <td>1008439</td>\n",
       "      <td>https://www.sgcarmart.com/listing/1008439</td>\n",
       "      <td>subaru</td>\n",
       "      <td>impreza</td>\n",
       "      <td>2007</td>\n",
       "      <td>mid-sized sedan</td>\n",
       "      <td>70</td>\n",
       "      <td>1597</td>\n",
       "      <td>1280</td>\n",
       "      <td>2</td>\n",
       "      <td>140000</td>\n",
       "      <td>37938</td>\n",
       "    </tr>\n",
       "  </tbody>\n",
       "</table>\n",
       "</div>"
      ],
      "text/plain": [
       "   listing_id                                        url        make  \\\n",
       "0     1019096  https://www.sgcarmart.com/listing/1019096  mitsubishi   \n",
       "1      946934   https://www.sgcarmart.com/listing/946934     porsche   \n",
       "2     1029652  https://www.sgcarmart.com/listing/1029652        audi   \n",
       "3     1004270  https://www.sgcarmart.com/listing/1004270        audi   \n",
       "4     1008439  https://www.sgcarmart.com/listing/1008439      subaru   \n",
       "\n",
       "       model  manufactured  type_of_vehicle  power  engine_cap  curb_weight  \\\n",
       "0  evolution          2008       sports car    206        1998         1550   \n",
       "1    cayenne          2011              suv    245        2995         2315   \n",
       "2         a5          2018     luxury sedan    140        1984         1535   \n",
       "3         rs          2018     stationwagon    331        2894         1790   \n",
       "4    impreza          2007  mid-sized sedan     70        1597         1280   \n",
       "\n",
       "   no_of_owners  mileage   price  \n",
       "0             3    82222  128888  \n",
       "1             4   131000  132000  \n",
       "2             2    43000  139800  \n",
       "3             1    28150  299900  \n",
       "4             2   140000   37938  "
      ]
     },
     "execution_count": 39,
     "metadata": {},
     "output_type": "execute_result"
    }
   ],
   "source": [
    "df_cars_facts = pd.read_csv('data/a1-used-cars-resale-facts.csv')\n",
    "\n",
    "df_cars_facts.head()"
   ]
  },
  {
   "cell_type": "markdown",
   "id": "a6db59c3-d7e9-4e37-a57c-db89bceb75cf",
   "metadata": {},
   "source": [
    "**Please complete the table below by answering the 8 given questions!** Use the code cell below the table to actually implement your steps that enabled you to answer the questions. There is no need for a fancy layout for any print statement; it's only important that the result is clear."
   ]
  },
  {
   "cell_type": "markdown",
   "id": "375bf326-0658-49ad-89ce-59bfd98b6331",
   "metadata": {},
   "source": [
    "This is a markdown cell. Please fill in your answers for (1)~(8).\n",
    "\n",
    "| No. | Question                                                                                               \t| Answer   \t|\n",
    "|-----|------------------------------------------------------------------------------------------------------------|--------------|\n",
    "| 1)  | What are the lowest and the highest prices for which a car has been sold?   | **1900, 2388777**   |\n",
    "| 2)  | How many different car makes are in the whole dataset? |  **64**  |\n",
    "| 3)  | How many Toyota Corolla (manufactured before 2010) have been sold?  |  **141**  |\n",
    "| 4)  | What are the top-3 most sold car makes (give the car make and the number of sales)? |  **mercedes_benz:2176, toyota:2116, honda:2078**  |\n",
    "| 5)  | Which SUV car model has been sold the most (give the model and the number of sales)? |  **vezel: 397**   |\n",
    "| 6)  | Which car make generated the highest overall sale when only considering low-powered cars, i.e., with power $ \\leq$ 60 (give the car make and the total sale)? | **mitsubishi:5634938**   |\n",
    "| 7)  | Which midsize sedan has the highest *power-to-engine_cap* ratio (give, the make, model, year of manufacturing, and power-to-engine_cap ratio (2 decimal precision))? |  **make:bmw, model:i8, year_of_manufacturing:2017, power_to_engine_cap_ratio:0.18**  |\n",
    "| 8)  | What is the correlation between the resale *price* and *mileage*, and between resale *price* and *engine_cap*? Use the Pearson correlation as metric. | **mileage:-0.39, engine_cap:0.65**  | |"
   ]
  },
  {
   "cell_type": "markdown",
   "id": "7f520c55-dad8-4f26-99e2-cc5e10244f10",
   "metadata": {},
   "source": [
    "**Complete the method `extract_facts` in the `.py` file to actually extract the facts!** The results should back up your answer above. Hint: Try to use methods/functionalities provided by `pandas` as much as possible; it will make your code much shorter, faster and your life easier. We will run performance checks for this method to evaluate the runtime, but the performance is not considered for the grading!\n",
    "\n",
    "**Note:** You can simply use simple print statements that somehow show the result you entered into the table above. You do not have to ensure any specific output. It should only *somehow* be possible to match the answers you have added to the table above to the output of the code cell."
   ]
  },
  {
   "cell_type": "code",
   "execution_count": 40,
   "id": "1f28185d-e64e-4c58-bf07-9775063d07cb",
   "metadata": {},
   "outputs": [
    {
     "name": "stdout",
     "output_type": "stream",
     "text": [
      "Lowest price: $1900, Highest price: $2388777\n",
      "\n",
      "Number of different car makes: 64\n",
      "\n",
      "Number of Toyota Corolla (manufactured before 2010) sold: 141\n",
      "\n",
      "Top-3 most sold car makes:\n",
      "mercedes-benz: 2176 sales\n",
      "toyota: 2116 sales\n",
      "honda: 2078 sales\n",
      "\n",
      "Most sold SUV car model: vezel, Number of sales: 397\n",
      "\n",
      "Car make with the highest overall sale for low-powered cars: mitsubishi, Total sale: $5634938\n",
      "\n",
      "Midsize sedan with the highest power-to-engine_cap ratio:\n",
      "Make: bmw\n",
      "Model: i8\n",
      "Year of Manufacturing: 2017\n",
      "Power-to-Engine_Cap Ratio (2 decimal precision): 0.18\n",
      "\n",
      "Correlation between resale price and mileage: -0.39\n",
      "Correlation between resale price and engine_cap: 0.65\n",
      "\n"
     ]
    }
   ],
   "source": [
    "extract_facts(df_cars_facts)"
   ]
  },
  {
   "cell_type": "markdown",
   "id": "a95c9d3e-b19c-47a8-ad5c-48415a4043f2",
   "metadata": {},
   "source": [
    "---"
   ]
  },
  {
   "cell_type": "markdown",
   "id": "f96b982a-0060-46be-bbad-b0f82238ab2e",
   "metadata": {},
   "source": [
    "# 2 K-Means\n",
    "\n",
    "The K-Means algorithm is a fundamental technique in unsupervised machine learning aimed at categorizing data points into distinct clusters. The primary objective is to partition a dataset into K clusters based on similarities among data points. The algorithm operates through several steps:\n",
    "\n",
    "* **Initialization:** Begin by selecting the desired number of clusters, K. Initialize K centroids randomly, representing the cluster centers.\n",
    "\n",
    "* **Assignment:** Each data point is assigned to the nearest centroid, establishing initial clusters.\n",
    "\n",
    "* **Update:** Recalculate the centroids of the clusters using the mean of data points within each cluster.\n",
    "ments are consistent.\n",
    "\n",
    "The algorithm repeatedly performs the assignment and update steps for a set number of iterations or until the centroids no longer shift significantly. The algorithm converges when centroids stabilize, indicating that cluster assignments are consistent. At the end of the process, data points are grouped into K clusters, with each cluster defined by its centroid. K-Means has applications across diverse fields, such as customer behavior analysis, image segmentation, and recommendation systems. However, it's sensitive to the initial centroid placement and assumes clusters are spherical and equally sized, which can affect its performance."
   ]
  },
  {
   "cell_type": "markdown",
   "id": "f17241b9-b45a-49d3-827b-8dec4bf182c1",
   "metadata": {},
   "source": [
    "### 2.1 Performing K-Means \"By Hand\" (4 Points)\n",
    "\n",
    "The plot below shows a toy dataset of 15 data points labeled A, B, C, ..., O."
   ]
  },
  {
   "cell_type": "markdown",
   "id": "d33b3407-3934-4726-97ba-fb7be214d317",
   "metadata": {},
   "source": [
    "<img src=\"data/a1-kmeans-data.png\">"
   ]
  },
  {
   "cell_type": "markdown",
   "id": "62aec036-1e2b-45a0-8fc5-19ccc131a66e",
   "metadata": {},
   "source": [
    "#### 2.1 a) Find Clusters for K=3 (2 Points)\n",
    "\n",
    "Perform K-Means with K=3 on the data, taking points C, H, and M as the initial cluster centers! At the end of each iteration, list the positions of the cluster centers, as well as the set of points belonging to each cluster. There is no need for you to implement anything here.\n",
    "\n",
    "**Your Answer:**"
   ]
  },
  {
   "cell_type": "markdown",
   "id": "517712dd-55b9-42f9-ab19-a4a81e7caf16",
   "metadata": {},
   "source": [
    "Iteration 1: GROUP 1 (A,B,C,D,E centroid:C) GROUP 2 (F,G,H,I,J centroid:H) GROUP 3 (K,L,M,N,O centroid:M)"
   ]
  },
  {
   "cell_type": "markdown",
   "id": "46ff2bbd-7182-4f1c-b2d1-7d90c6b1a21d",
   "metadata": {},
   "source": [
    "#### 2.1 b) Evaluate the Result (2 Points)\n",
    "\n",
    "Do you think this clustering result is satisfactory? Briefly discuss your answer!\n",
    " \n",
    " **Your Answer:**"
   ]
  },
  {
   "cell_type": "markdown",
   "id": "2c1612b2-521e-440d-839a-65a3c174f046",
   "metadata": {},
   "source": [
    "The result is satisfactory, since the data points are evenly distributed, I would expect that all data points that are in the same line belong to one group. However, the initiation of the first 3 centroid is also very important, especially for a evenly distributed dataset."
   ]
  },
  {
   "cell_type": "markdown",
   "id": "97bc1933-9b0f-4f60-a6ea-db4db64bc937",
   "metadata": {},
   "source": [
    "### 2.2 Initializing Centroids (10 Points)\n",
    "\n",
    "As we learned in the lecture, K-Means is rather sensitive to the initialization of the clusters. The most common initialization method is **K-Means++** (see lecture slides). Note that K-Means++ is non-deterministic as it picks the next based on probabilities depending on the distances between the data points and the existing clusters. You will implement the K-Means++ initialization in this task.\n",
    "\n",
    "Consider another heuristic **MaxDist** which is very similar to K-Means++, which picks the next centroid as the data point which is farthest away from its currently nearest existing centroid. -- In fact, some of you in the lecture have asked why we not simply do this instead of picking points with some randomness -- More formally, given a pick for the first centroid $c_1$, all following centroids $c_k$ for $k=2,...,K$ are defined as:\n",
    "\n",
    "$$\n",
    "c_k = \\underset{x\\in X}{\\mathrm{argmax}} \\left( \\underset{i=1,...,k-1}{\\mathrm{min}}||x - c_i||_2 \\right)\n",
    "$$\n",
    "\n",
    "where $X$ is the set of all data points. Appreciate that $\\underset{i=1,...,k-1}{\\mathrm{min}}||x - c_i||_2$ is also part of K-Means++, only instead of picking with some randomization we always pick the point with the largest distance.\n",
    "\n",
    "For testing your implementation in the following, we use the dataset that generated the figure above in 1.1. The data points are in the order that $A=X[0]$, $B=X[1]$, $C=X[2]$, ..., $N=X[13]$, $O=X[14]$. This will make the interpretation of the results easier."
   ]
  },
  {
   "cell_type": "code",
   "execution_count": 41,
   "id": "83d1d1d9-ff05-4b9a-b23a-84ec6c2347cb",
   "metadata": {},
   "outputs": [],
   "source": [
    "X = np.array([[-4,1], [-2,1], [0,1], [2,1], [4,1],\n",
    "              [-4,0], [-2,0], [0,0], [2,0], [4,0], \n",
    "              [-4,-1], [-2,-1],  [0,-1], [2,-1], [4,-1]])"
   ]
  },
  {
   "cell_type": "markdown",
   "id": "a7d75e77-efaf-4c43-bb17-497bde4612d0",
   "metadata": {},
   "source": [
    "#### 2.2 a) Implement Initialization of Centroids (6 Points)\n",
    "\n",
    "Implement the method `kmeans_init()` in the `.py` file to calculate the initial centroids based on the two approaches \"K-Means++\" and \"MaxDist\"! Since both approaches are quite similar, this can easily be done in the same method. Note that `kmeans_init()` allows you to specify the first centroid manually. This is very useful for testing and interpreting the results later. Note that the method should return the indices of the respective data points chosen as centroids and not the actual data points.\n",
    "\n",
    "Hint: We already imported the method `euclidean_distances` for you to use, and you can always use anything provided by `numpy`.\n",
    "\n",
    "The code cell allows you to check your code."
   ]
  },
  {
   "cell_type": "code",
   "execution_count": 42,
   "id": "fd947985-d1a6-4b03-b1ea-4b1076152a3b",
   "metadata": {},
   "outputs": [
    {
     "name": "stdout",
     "output_type": "stream",
     "text": [
      "Centroids:\n",
      "[ 0 14  7]\n"
     ]
    }
   ],
   "source": [
    "centroids = kmeans_init(X, 3, c1=0, method='maxdist')\n",
    "#centroids = kmeans_init(X, 3, c1=0, method='kmeans++')\n",
    "\n",
    "print('Centroids:')\n",
    "print(centroids)\n"
   ]
  },
  {
   "cell_type": "markdown",
   "id": "b7889475-8468-4ce6-a399-4808996e482a",
   "metadata": {},
   "source": [
    "For `method='maxdist'` the output should be as follows:\n",
    "\n",
    "```\n",
    "Centroids:\n",
    "[ 0 14  7]\n",
    "```\n",
    "\n",
    "This output should match since we set the data point at index `0` as the first centroid, and the \"MaxDist\" method is deterministic. When using `method='kmeans++'`, the output will differ when executing the code cell multiple times, although the first centroid in the list should always be Index `0`, of course."
   ]
  },
  {
   "cell_type": "markdown",
   "id": "ff709373-3f46-45c2-a495-8196afb1bbce",
   "metadata": {},
   "source": [
    "#### 2.2 b) Interpreting MaxDist Initialization\n",
    "\n",
    "We provide you with a method `plot_centroid_distributions` (check `src/utils.py` for the details on the input parameters) to visualize the process of picking all centroids, given a manually chosen first centroid. `plot_centroid_distributions` executes your implementation of `initialize_centroids` multiple times specified by the input parameter `num_runs`. During this process, the method counts the number of times each data point (i.e., its index $0..14$) was picked for $c_2$, ..., $c_k$ (we use K=3 throughout this section). This gives you a distribution of how often a data point was selected as centroid, and plots it as a bar chart. Of course, since we specify the first centroid $c_1$ as an input parameter, the distribution for $c_1$ is always a single bar with a height of `num_runs`.\n",
    "\n",
    "Run `plot_centroid_distributions` using the method **MaxDist** using the code below. The number of clusters is K=3 and the index of the first cluster is 0 (i.e., data point $A$). If the results are unclear, you can increase the value of `num_runs`. Explain the results, discuss whether they meet your expectations of the method **MaxDist**, and discuss if the result is unique! Use the markdown cell below the plots."
   ]
  },
  {
   "cell_type": "code",
   "execution_count": 43,
   "id": "146235f8-bf2a-4035-a13c-98e224094a24",
   "metadata": {},
   "outputs": [
    {
     "data": {
      "image/png": "[encoded data removed]",
      "text/plain": [
       "<Figure size 640x480 with 1 Axes>"
      ]
     },
     "metadata": {},
     "output_type": "display_data"
    },
    {
     "data": {
      "image/png": "[encoded data removed]",
      "text/plain": [
       "<Figure size 640x480 with 1 Axes>"
      ]
     },
     "metadata": {},
     "output_type": "display_data"
    },
    {
     "data": {
      "image/png": "[encoded data removed]",
      "text/plain": [
       "<Figure size 640x480 with 1 Axes>"
      ]
     },
     "metadata": {},
     "output_type": "display_data"
    }
   ],
   "source": [
    "from src.utils import *\n",
    "plot_centroid_distributions(kmeans_init, X, 3, 0, method='maxdist', num_runs=100)"
   ]
  },
  {
   "cell_type": "markdown",
   "id": "ae0b31ab-de06-44ba-b273-8528e838d674",
   "metadata": {},
   "source": [
    "**Your Answer:**"
   ]
  },
  {
   "cell_type": "markdown",
   "id": "2e537faa-2e16-4755-a2f4-e34f820b6b0d",
   "metadata": {},
   "source": [
    "**Distribution for c1:**\n",
    "* As expected, the distribution for the first centroid (c1) is a single bar with a height of num_runs, which is 100 in this case.\n",
    "\n",
    "**Distribution for c2 and c3:**\n",
    "* Since the \"MaxDist\" method chooses the next centroid as the data point farthest away from the currently nearest centroid, we can observe that certain data points are chosen much more frequently than others for c2 and c3.((14 and 7))\n",
    "\n",
    "**Expectations of the \"MaxDist\" Method:**\n",
    "* The results align with our expectations of the \"MaxDist\" method. \"MaxDist\" tends to select centroids that are maximally distant from the existing centroids.\n",
    "\n",
    "**Uniqueness of Results**\n",
    "* The results are unique if we always select the same initiated c1. While the \"MaxDist\" method is deterministic in the sense that it will always select the farthest data point as the next centroid, the initial choice of the first centroid (c1) can affect which data points are closer or farther from it\n",
    "* If we choose a different initial data point as c1, we may get a different distribution for c2 and c3, even though the overall behavior aligns with the \"MaxDist\" method's principle."
   ]
  },
  {
   "cell_type": "markdown",
   "id": "39e91f97-d4d3-499f-99ee-ec9fdd7a543c",
   "metadata": {},
   "source": [
    "#### 2.2 c) Interpreting KMeans++ Initialization (2 Points)\n",
    "\n",
    "Run `plot_centroid_distributions` using the method **K-Means++** using the code below! The number of clusters is K=3 and the index of the first cluster is 0 (i.e., data point $A$). If the results are unclear, you can increase the value of `num_runs`. Explain the results and discuss whether they meet your expectations of the method **K-Means++**! Use the markdown cell below the plots."
   ]
  },
  {
   "cell_type": "code",
   "execution_count": 45,
   "id": "d890f510-cc20-4577-8bec-b241a38299b1",
   "metadata": {},
   "outputs": [
    {
     "data": {
      "image/png": "[encoded data removed]",
      "text/plain": [
       "<Figure size 640x480 with 1 Axes>"
      ]
     },
     "metadata": {},
     "output_type": "display_data"
    },
    {
     "data": {
      "image/png": "[encoded data removed]",
      "text/plain": [
       "<Figure size 640x480 with 1 Axes>"
      ]
     },
     "metadata": {},
     "output_type": "display_data"
    },
    {
     "data": {
      "image/png": "[encoded data removed]",
      "text/plain": [
       "<Figure size 640x480 with 1 Axes>"
      ]
     },
     "metadata": {},
     "output_type": "display_data"
    }
   ],
   "source": [
    "plot_centroid_distributions(kmeans_init, X, 3, 0, method='kmeans++', num_runs=100)"
   ]
  },
  {
   "cell_type": "markdown",
   "id": "68cacd72-5fc3-4a98-9c44-ff61d63fe006",
   "metadata": {},
   "source": [
    "**Your Answer:**"
   ]
  },
  {
   "cell_type": "markdown",
   "id": "7b455068-2bee-47fd-a2ef-a716b91ed3a0",
   "metadata": {},
   "source": [
    "**Distribution for c1:**\n",
    "* As expected, the distribution for the first centroid (c1) is a single bar with a height of num_runs, which is 100 in this case.\n",
    "\n",
    "**Distribution for c2 and c3:**\n",
    "* Unlike the \"MaxDist\" method, which tends to select the farthest data points as centroids, K-Means++ initialization uses a probabilistic approach based on distances squared. As a result, we observe a more uniform distribution for c2 and c3.\n",
    "* Data points closer to the initial centroid A (c1) still have a lower chance of being selected as c2 and c3, but the distribution is more balanced compared to \"MaxDist.\"\n",
    "\n",
    "**Expectations of the \"K-Means++\" Method:**\n",
    "* The results align with our expectations of the K-Means++ initialization method. K-Means++ aims to select centroids in such a way that they are spread out and well-distributed across the data space.\n",
    "\n",
    "**Uniqueness of Results**\n",
    "* The results are not unique for K-Means++ initialization. While the method's probabilistic nature ensures a degree of randomness in centroid selection, the initial choice of the first centroid (c1) can still affect the final distribution of c2 and c3.\n"
   ]
  },
  {
   "cell_type": "markdown",
   "id": "ff40a137-e32d-4876-b43b-fa2412c5adb7",
   "metadata": {},
   "source": [
    "### 2.3 Questions about K-Means (6 Points)\n",
    "\n",
    "#### 2.3 a) Empty Cluster (3 Points)\n",
    "\n",
    "**Outline all situations where K-Means may return at least 1 empty cluster!** To address this task, please make the following assumptions:\n",
    "* The number of samples $N$ in the dataset is $N > 0$\n",
    "* The number of clusters $K$ when running K-Means is $K \\geq 2$\n",
    "* The initialization of the initial centroids can be arbitrary good or bad\n",
    "\n",
    "**Your Answer:**"
   ]
  },
  {
   "cell_type": "markdown",
   "id": "cde4e4a7-d1f5-4c1d-a0b4-86c1553cd737",
   "metadata": {},
   "source": [
    "**Bad Initialization:** If the initial centroids are poorly chosen and are close to each other or far away from data points, it's possible for one or more clusters to end up with no data points assigned to them. This can happen when centroids are placed in regions with low data density.\n",
    "\n",
    "**Outliers:** If there are outliers in the dataset, they can significantly impact the cluster assignments. If a cluster center is initialized near an outlier, it may attract only that outlier as its nearest point, leaving the rest of the data points unassigned to any cluster.\n",
    "\n",
    "**Inappropriate Choice of K:** If K is set too high compared to the actual number of meaningful clusters in the data, K-Means may struggle to find valid assignments for all clusters, leading to empty clusters.\n",
    "\n",
    "**Data Skewness:** Data distribution skewness can impact cluster assignments. If the data is skewed towards one region, centroids initialized away from this region might result in empty clusters in that skewed region."
   ]
  },
  {
   "cell_type": "markdown",
   "id": "bf20c022-94c2-412a-99e8-64d0386cd6fb",
   "metadata": {},
   "source": [
    "#### 2.3 b) Outlier Detection (3 Points)\n",
    "\n",
    "Recall the K-Means results in clusterings that are complete, i.e., each data point is assigned to a cluster. In contrast, DBSCAN has the notion of noise, i.e., points that are not part of any cluster, which can be used to identify outliers (see also Task 2). Now let's assume we want to identify outliers in a dataset but only have an implementation for K-Means available.\n",
    "\n",
    "**Describe how we can use K-Means to identify outliers!** Since the notion of outliers is not well defined, it's not about having a fool-proof solution but to make a well-informed decision to limit the set of data points that are potential outliers.\n",
    "\n",
    "**Your Answer:**"
   ]
  },
  {
   "cell_type": "markdown",
   "id": "83125301-bd77-4412-a921-1e3c33c453a2",
   "metadata": {},
   "source": [
    "Weu can use K-Means for outlier identification by first clusteringther data and calculating the distances between each point and its assigned cluster center. Set a threshold to define what constitutes an outlier based on domain knowledge or data characteristics. Any data point with a distance exceeding this threshold can be considered a potential outlier. Inspect these potential outliers to determine whether they are genuine outliers or anomalies.\n",
    "\n",
    "\n",
    "Initializing a centroid near an outlier in K-Means can potentially aid in identifying it as a separate cluster or a distant data point. However, its effectiveness depends on factors like the centroid initialization method, dataset characteristics, and the definition of outliers. ."
   ]
  },
  {
   "cell_type": "code",
   "execution_count": null,
   "id": "4b672d13-ff39-4b63-84d3-04f82471a7c1",
   "metadata": {},
   "outputs": [],
   "source": []
  }
 ],
 "metadata": {
  "kernelspec": {
   "display_name": "Python 3 (ipykernel)",
   "language": "python",
   "name": "python3"
  },
  "language_info": {
   "codemirror_mode": {
    "name": "ipython",
    "version": 3
   },
   "file_extension": ".py",
   "mimetype": "text/x-python",
   "name": "python",
   "nbconvert_exporter": "python",
   "pygments_lexer": "ipython3",
   "version": "3.10.7"
  }
 },
 "nbformat": 4,
 "nbformat_minor": 5
}
